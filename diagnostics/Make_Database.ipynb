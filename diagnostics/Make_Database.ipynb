{
 "cells": [
  {
   "cell_type": "markdown",
   "metadata": {},
   "source": [
    "# Make Database\n",
    "This script makes a local database of outputfolders from the MOM6 anu-tub simulation."
   ]
  },
  {
   "cell_type": "code",
   "execution_count": 1,
   "metadata": {},
   "outputs": [],
   "source": [
    "%matplotlib inline\n",
    "import cosima_cookbook as cc\n",
    "from dask.distributed import Client\n",
    "import glob"
   ]
  },
  {
   "cell_type": "code",
   "execution_count": 2,
   "metadata": {},
   "outputs": [],
   "source": [
    "db = 'anu-tub.db'"
   ]
  },
  {
   "cell_type": "code",
   "execution_count": 3,
   "metadata": {},
   "outputs": [],
   "source": [
    "session=cc.database.create_session(db)"
   ]
  },
  {
   "cell_type": "code",
   "execution_count": 4,
   "metadata": {},
   "outputs": [
    {
     "data": {
      "text/plain": [
       "['/g/data/x77/amh157/anu-tub/outputs/anu-tub-control-A',\n",
       " '/g/data/x77/amh157/anu-tub/outputs/anu-tub-adapt-E',\n",
       " '/g/data/x77/amh157/anu-tub/outputs/anu-tub-control',\n",
       " '/g/data/x77/amh157/anu-tub/outputs/anu-tub-adapt-I',\n",
       " '/g/data/x77/amh157/anu-tub/outputs/anu-tub-adapt-C',\n",
       " '/g/data/x77/amh157/anu-tub/outputs/anu-tub-adapt-B',\n",
       " '/g/data/x77/amh157/anu-tub/outputs/anu-tub-adapt-G',\n",
       " '/g/data/x77/amh157/anu-tub/outputs/anu-tub-adapt-F',\n",
       " '/g/data/x77/amh157/anu-tub/outputs/anu-tub-adapt-H',\n",
       " '/g/data/x77/amh157/anu-tub/outputs/anu-tub-adapt-J',\n",
       " '/g/data/x77/amh157/anu-tub/outputs/anu-tub-adapt',\n",
       " '/g/data/x77/amh157/anu-tub/outputs/anu-tub-adapt-O',\n",
       " '/g/data/x77/amh157/anu-tub/outputs/anu-tub-adapt-N',\n",
       " '/g/data/x77/amh157/anu-tub/outputs/anu-tub-adapt-A',\n",
       " '/g/data/x77/amh157/anu-tub/outputs/anu-tub-adapt-D',\n",
       " '/g/data/x77/amh157/anu-tub/outputs/anu-tub-adapt-morediags',\n",
       " '/g/data/x77/amh157/anu-tub/outputs/anu-tub-adapt-K',\n",
       " '/g/data/x77/amh157/anu-tub/outputs/anu-tub-adapt-P',\n",
       " '/g/data/x77/amh157/anu-tub/outputs/anu-tub-adapt-M',\n",
       " '/g/data/x77/amh157/anu-tub/outputs/anu-tub-adapt-L']"
      ]
     },
     "execution_count": 4,
     "metadata": {},
     "output_type": "execute_result"
    }
   ],
   "source": [
    "dir_list = glob.glob('/g/data/x77/amh157/anu-tub/outputs/*')\n",
    "dir_list"
   ]
  },
  {
   "cell_type": "code",
   "execution_count": 5,
   "metadata": {},
   "outputs": [
    {
     "name": "stderr",
     "output_type": "stream",
     "text": [
      " 40%|████      | 2/5 [00:00<00:00, 15.09it/s]"
     ]
    },
    {
     "name": "stdout",
     "output_type": "stream",
     "text": [
      "Indexing experiment: anu-tub-control-A\n"
     ]
    },
    {
     "name": "stderr",
     "output_type": "stream",
     "text": [
      "100%|██████████| 5/5 [00:00<00:00, 13.98it/s]\n",
      "  0%|          | 0/5 [00:00<?, ?it/s]"
     ]
    },
    {
     "name": "stdout",
     "output_type": "stream",
     "text": [
      "Indexing experiment: anu-tub-adapt-E\n"
     ]
    },
    {
     "name": "stderr",
     "output_type": "stream",
     "text": [
      "100%|██████████| 5/5 [00:00<00:00, 14.80it/s]\n"
     ]
    },
    {
     "name": "stdout",
     "output_type": "stream",
     "text": [
      "Indexing experiment: anu-tub-control\n"
     ]
    },
    {
     "name": "stderr",
     "output_type": "stream",
     "text": [
      "100%|██████████| 2264/2264 [02:52<00:00, 13.11it/s]\n",
      "  0%|          | 0/5 [00:00<?, ?it/s]"
     ]
    },
    {
     "name": "stdout",
     "output_type": "stream",
     "text": [
      "Indexing experiment: anu-tub-adapt-I\n"
     ]
    },
    {
     "name": "stderr",
     "output_type": "stream",
     "text": [
      "100%|██████████| 5/5 [00:00<00:00, 13.84it/s]\n",
      " 40%|████      | 2/5 [00:00<00:00, 17.74it/s]"
     ]
    },
    {
     "name": "stdout",
     "output_type": "stream",
     "text": [
      "Indexing experiment: anu-tub-adapt-C\n"
     ]
    },
    {
     "name": "stderr",
     "output_type": "stream",
     "text": [
      "100%|██████████| 5/5 [00:00<00:00, 16.91it/s]\n",
      " 40%|████      | 2/5 [00:00<00:00, 17.33it/s]"
     ]
    },
    {
     "name": "stdout",
     "output_type": "stream",
     "text": [
      "Indexing experiment: anu-tub-adapt-B\n"
     ]
    },
    {
     "name": "stderr",
     "output_type": "stream",
     "text": [
      "100%|██████████| 5/5 [00:00<00:00, 15.21it/s]\n",
      " 40%|████      | 2/5 [00:00<00:00, 19.93it/s]"
     ]
    },
    {
     "name": "stdout",
     "output_type": "stream",
     "text": [
      "Indexing experiment: anu-tub-adapt-G\n"
     ]
    },
    {
     "name": "stderr",
     "output_type": "stream",
     "text": [
      "100%|██████████| 5/5 [00:00<00:00, 14.58it/s]\n",
      " 40%|████      | 2/5 [00:00<00:00, 14.98it/s]"
     ]
    },
    {
     "name": "stdout",
     "output_type": "stream",
     "text": [
      "Indexing experiment: anu-tub-adapt-F\n"
     ]
    },
    {
     "name": "stderr",
     "output_type": "stream",
     "text": [
      "100%|██████████| 5/5 [00:00<00:00, 14.41it/s]\n",
      " 40%|████      | 2/5 [00:00<00:00, 17.23it/s]"
     ]
    },
    {
     "name": "stdout",
     "output_type": "stream",
     "text": [
      "Indexing experiment: anu-tub-adapt-H\n"
     ]
    },
    {
     "name": "stderr",
     "output_type": "stream",
     "text": [
      "100%|██████████| 5/5 [00:00<00:00, 15.12it/s]\n",
      " 40%|████      | 2/5 [00:00<00:00, 19.32it/s]"
     ]
    },
    {
     "name": "stdout",
     "output_type": "stream",
     "text": [
      "Indexing experiment: anu-tub-adapt-J\n"
     ]
    },
    {
     "name": "stderr",
     "output_type": "stream",
     "text": [
      "100%|██████████| 5/5 [00:00<00:00, 16.80it/s]\n"
     ]
    },
    {
     "name": "stdout",
     "output_type": "stream",
     "text": [
      "Indexing experiment: anu-tub-adapt\n"
     ]
    },
    {
     "name": "stderr",
     "output_type": "stream",
     "text": [
      "100%|██████████| 120/120 [00:08<00:00, 14.86it/s]\n",
      " 40%|████      | 2/5 [00:00<00:00, 17.07it/s]"
     ]
    },
    {
     "name": "stdout",
     "output_type": "stream",
     "text": [
      "Indexing experiment: anu-tub-adapt-O\n"
     ]
    },
    {
     "name": "stderr",
     "output_type": "stream",
     "text": [
      "100%|██████████| 5/5 [00:00<00:00, 13.75it/s]\n",
      " 40%|████      | 2/5 [00:00<00:00, 19.88it/s]"
     ]
    },
    {
     "name": "stdout",
     "output_type": "stream",
     "text": [
      "Indexing experiment: anu-tub-adapt-N\n"
     ]
    },
    {
     "name": "stderr",
     "output_type": "stream",
     "text": [
      "100%|██████████| 5/5 [00:00<00:00, 15.79it/s]\n",
      " 40%|████      | 2/5 [00:00<00:00, 17.66it/s]"
     ]
    },
    {
     "name": "stdout",
     "output_type": "stream",
     "text": [
      "Indexing experiment: anu-tub-adapt-A\n"
     ]
    },
    {
     "name": "stderr",
     "output_type": "stream",
     "text": [
      "100%|██████████| 5/5 [00:00<00:00, 12.94it/s]\n",
      " 40%|████      | 2/5 [00:00<00:00, 19.79it/s]"
     ]
    },
    {
     "name": "stdout",
     "output_type": "stream",
     "text": [
      "Indexing experiment: anu-tub-adapt-D\n"
     ]
    },
    {
     "name": "stderr",
     "output_type": "stream",
     "text": [
      "100%|██████████| 5/5 [00:00<00:00, 14.32it/s]\n",
      "  0%|          | 0/7 [00:00<?, ?it/s]"
     ]
    },
    {
     "name": "stdout",
     "output_type": "stream",
     "text": [
      "Indexing experiment: anu-tub-adapt-morediags\n"
     ]
    },
    {
     "name": "stderr",
     "output_type": "stream",
     "text": [
      "100%|██████████| 7/7 [00:00<00:00, 17.12it/s]\n",
      "  0%|          | 0/5 [00:00<?, ?it/s]"
     ]
    },
    {
     "name": "stdout",
     "output_type": "stream",
     "text": [
      "Indexing experiment: anu-tub-adapt-K\n"
     ]
    },
    {
     "name": "stderr",
     "output_type": "stream",
     "text": [
      "100%|██████████| 5/5 [00:00<00:00, 13.59it/s]\n",
      "  0%|          | 0/5 [00:00<?, ?it/s]"
     ]
    },
    {
     "name": "stdout",
     "output_type": "stream",
     "text": [
      "Indexing experiment: anu-tub-adapt-P\n"
     ]
    },
    {
     "name": "stderr",
     "output_type": "stream",
     "text": [
      "100%|██████████| 5/5 [00:00<00:00, 12.99it/s]\n",
      "  0%|          | 0/5 [00:00<?, ?it/s]"
     ]
    },
    {
     "name": "stdout",
     "output_type": "stream",
     "text": [
      "Indexing experiment: anu-tub-adapt-M\n"
     ]
    },
    {
     "name": "stderr",
     "output_type": "stream",
     "text": [
      "100%|██████████| 5/5 [00:00<00:00, 13.63it/s]\n",
      "  0%|          | 0/5 [00:00<?, ?it/s]"
     ]
    },
    {
     "name": "stdout",
     "output_type": "stream",
     "text": [
      "Indexing experiment: anu-tub-adapt-L\n"
     ]
    },
    {
     "name": "stderr",
     "output_type": "stream",
     "text": [
      "100%|██████████| 5/5 [00:00<00:00, 15.57it/s]\n"
     ]
    },
    {
     "data": {
      "text/plain": [
       "2476"
      ]
     },
     "execution_count": 5,
     "metadata": {},
     "output_type": "execute_result"
    }
   ],
   "source": [
    "cc.database.build_index(dir_list,session)"
   ]
  },
  {
   "cell_type": "code",
   "execution_count": null,
   "metadata": {},
   "outputs": [],
   "source": []
  }
 ],
 "metadata": {
  "kernelspec": {
   "display_name": "Python [conda env:analysis3-21.04]",
   "language": "python",
   "name": "conda-env-analysis3-21.04-py"
  },
  "language_info": {
   "codemirror_mode": {
    "name": "ipython",
    "version": 3
   },
   "file_extension": ".py",
   "mimetype": "text/x-python",
   "name": "python",
   "nbconvert_exporter": "python",
   "pygments_lexer": "ipython3",
   "version": "3.8.10"
  }
 },
 "nbformat": 4,
 "nbformat_minor": 4
}
