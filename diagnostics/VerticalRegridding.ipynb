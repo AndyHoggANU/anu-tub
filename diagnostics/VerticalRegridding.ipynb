{
 "cells": [
  {
   "cell_type": "code",
   "execution_count": 1,
   "id": "19c27de9-7f9a-4390-9a0d-41b9df3deaa7",
   "metadata": {},
   "outputs": [],
   "source": [
    "import toml\n",
    "import sys\n",
    "sys.path = [\"/scratch/x77/ahg157/software/python-ale/build/lib.linux-x86_64-3.9\"] + sys.path\n",
    "import pyale\n",
    "from dask.distributed import Client\n",
    "import matplotlib.pyplot as plt\n",
    "import numpy as np"
   ]
  },
  {
   "cell_type": "code",
   "execution_count": 8,
   "id": "254cb5c5-f903-40dd-ac25-dda8f12d4776",
   "metadata": {},
   "outputs": [],
   "source": [
    "params = toml.load(\"/g/data/x77/amh157/anu-tub/diagnostics/params_adapt.toml\")"
   ]
  },
  {
   "cell_type": "code",
   "execution_count": 9,
   "id": "db90a124-4475-4fc4-bc18-c787a390c4a5",
   "metadata": {},
   "outputs": [
    {
     "name": "stdout",
     "output_type": "stream",
     "text": [
      " log_version: MOM_domains                             , unknown\n",
      " MOM_domains                              REENTRANT_X:  F\n",
      " MOM_domains                              REENTRANT_Y:  F\n",
      " MOM_domains                              TRIPOLAR_N:  F\n",
      " MOM_domains                              !SYMMETRIC_MEMORY_:  T\n",
      " MOM_domains                              NONBLOCKING_UPDATES:  F\n",
      " MOM_domains                              THIN_HALO_UPDATES:  F\n",
      " MOM_domains                              !STATIC_MEMORY_:  F\n",
      " MOM_domains                              NIGLOBAL:          160\n",
      " MOM_domains                              NJGLOBAL:          800\n",
      " MOM_domains                              NIHALO:            4\n",
      " MOM_domains                              NJHALO:            4\n",
      " MOM_domains                              MASKTABLE: 'MOM_mask_table'\n",
      " MOM_domains                              NIPROC:            1\n",
      " MOM_domains                              NJPROC:            1\n",
      " MOM_domains                              LAYOUT:            1           1\n",
      " MOM_domains                              IO_LAYOUT:            1           1\n",
      " log_version: MOM_hor_index, unknown\n",
      " log_version: MOM_grid                                , unknown\n",
      " MOM_grid                                 NIBLOCK:            1\n",
      " MOM_grid                                 NJBLOCK:            1\n",
      " MOM_grid                                 REFERENCE_HEIGHT:    0.0000000000000000     \n",
      " compute_block_extent:            1\n",
      " compute_block_extent:            1\n",
      " log_version: MOM_fixed_initialization                , unknown\n",
      " MOM_fixed_initialization                 DEBUG:  F\n",
      " MOM_fixed_initialization                 INPUTDIR: '/g/data/x77/amh157/mom6/input/anu-tub'\n",
      " log_version: MOM_grid_init, unknown\n",
      " MOM_grid_init GRID_CONFIG: 'mercator'\n",
      " MOM_grid_init DEBUG:  F\n",
      " MOM_grid_init set_grid_metrics_mercator          SOUTHLAT:   -70.275597151116003     \n",
      " MOM_grid_init set_grid_metrics_mercator          LENLAT:    140.55119430220000     \n",
      " MOM_grid_init set_grid_metrics_mercator          WESTLON:    0.0000000000000000     \n",
      " MOM_grid_init set_grid_metrics_mercator          LENLON:    40.000000000000000     \n",
      " MOM_grid_init set_grid_metrics_mercator          RAD_EARTH:    6378000.0000000000     \n",
      " MOM_grid_init set_grid_metrics_mercator          ISOTROPIC:  T\n",
      " MOM_grid_init set_grid_metrics_mercator          EQUATOR_REFERENCE:  F\n",
      " MOM_grid_init set_grid_metrics_mercator          LAT_ENHANCE_FACTOR:    1.0000000000000000     \n",
      " MOM_grid_init set_grid_metrics_mercator          LAT_EQ_ENHANCE:    0.0000000000000000     \n",
      " MOM_initialize_topography                TOPO_CONFIG: 'file'\n",
      " initialize_topography_from_file          INPUTDIR: '/g/data/x77/amh157/mom6/input/anu-tub'\n",
      " initialize_topography_from_file          TOPO_FILE: 'topog.nc'\n",
      " initialize_topography_from_file          TOPO_VARNAME: 'topog'\n",
      " initialize_topography_from_file          INPUTDIR/TOPO_FILE: '/g/data/x77/amh157/mom6/input/anu-tub/topog.nc'\n",
      " apply_topography_edits_from_file         INPUTDIR: '/g/data/x77/amh157/mom6/input/anu-tub'\n",
      " apply_topography_edits_from_file         TOPO_EDITS_FILE: ''\n",
      " apply_topography_edits_from_file         ALLOW_LANDMASK_CHANGES:  F\n",
      " apply_topography_edits_from_file         MINIMUM_DEPTH:    0.0000000000000000     \n",
      " apply_topography_edits_from_file         MASKING_DEPTH:   -9999.0000000000000     \n",
      " MOM_initialize_topography                MAXIMUM_DEPTH:    4000.0000000000000     \n",
      " limit_topography                         MINIMUM_DEPTH:    0.0000000000000000     \n",
      " MOM_grid_init initialize_masks           MINIMUM_DEPTH:    0.0000000000000000     \n",
      " MOM_grid_init initialize_masks           MASKING_DEPTH:   -9999.0000000000000     \n",
      " MOM_fixed_initialization                 CHANNEL_CONFIG: 'none'\n",
      " MOM_initialize_rotation                  ROTATION: '2omegasinlat'\n",
      " set_rotation_planetary OMEGA:    7.2921000000000002E-005\n",
      " initialize_grid_rotation_angle           GRID_ROTATION_ANGLE_BUGS:  F\n",
      " log_version: MOM_verticalGrid, unknown\n",
      " MOM_verticalGrid G_EARTH:    9.8000000000000007     \n",
      " MOM_verticalGrid RHO_0:    1035.0000000000000     \n",
      " MOM_verticalGrid BOUSSINESQ:  F\n",
      " MOM_verticalGrid ANGSTROM:    1.0000000000000000E-010\n",
      " MOM_verticalGrid H_RESCALE_POWER:            0\n",
      " MOM_verticalGrid H_TO_KG_M2:    1.0000000000000000     \n",
      " MOM_verticalGrid NK:           75\n",
      " MOM_verticalGrid M to THICKNESS:    1035.0000000000000     \n",
      " MOM_verticalGrid M to THICKNESS rescaled by 2^-n:    1035.0000000000000     \n",
      " MOM_verticalGrid THICKNESS to M rescaled by 2^n:    9.6618357487922703E-004\n",
      " log_version: MOM_EOS                                 , unknown\n",
      " MOM_EOS                                  EQN_OF_STATE: 'WRIGHT'\n",
      " MOM_EOS                                  EOS_QUADRATURE:  F\n",
      " MOM_EOS                                  TFREEZE_FORM: 'LINEAR'\n",
      " MOM_EOS                                  TFREEZE_S0_P0:    0.0000000000000000     \n",
      " MOM_EOS                                  DTFREEZE_DS:   -5.3999999999999999E-002\n",
      " MOM_EOS                                  DTFREEZE_DP:    0.0000000000000000     \n",
      "  REMAPPING_SCHEME: 'PLM'\n"
     ]
    }
   ],
   "source": [
    "cs = pyale.mom_init_cs(params)"
   ]
  },
  {
   "cell_type": "code",
   "execution_count": 10,
   "id": "0c6d247b-65fd-41d4-b633-7d8ac405091b",
   "metadata": {},
   "outputs": [],
   "source": [
    "restart_filename = '/scratch/x77/amh157/mom6/archive/zstar/restart300/MOM.res.nc'\n",
    "pyale.load_mom_restart(cs, restart_filename)"
   ]
  },
  {
   "cell_type": "code",
   "execution_count": 11,
   "id": "31c2dfa0-3319-4f35-8d32-595239078a53",
   "metadata": {},
   "outputs": [
    {
     "name": "stdout",
     "output_type": "stream",
     "text": [
      " init_MOM_state INPUTDIR: '/g/data/x77/amh157/mom6/input/anu-tub'\n",
      " init_MOM_state REGRIDDING_COORDINATE_UNITS: 'm'\n",
      " init_MOM_state INTERPOLATION_SCHEME: 'P1M_H2'\n",
      " init_MOM_state DEFAULT_2018_ANSWERS:  F\n",
      " init_MOM_state REMAPPING_2018_ANSWERS:  F\n",
      " init_MOM_state BOUNDARY_EXTRAPOLATION:  F\n",
      " init_MOM_state ALE_COORDINATE_CONFIG                   : 'FNC1:2,4000,4.5,.01'\n",
      " init_MOM_state !ALE_RESOLUTION                          :    2.0000000000000000        2.0000000000000000        2.0000000000000000        2.0000000000000000        2.0000000000000000        2.0000000000000000        2.0000000000000000        2.0099999999999998        2.0099999999999998        2.0200000000000000        2.0299999999999998        2.0499999999999998        2.0800000000000001        2.1099999999999999        2.1499999999999999        2.2100000000000000        2.2800000000000002        2.3700000000000001        2.4800000000000000        2.6099999999999999        2.7700000000000000        2.9500000000000002        3.1699999999999999        3.4299999999999997        3.7400000000000002        4.0899999999999999        4.4900000000000002        4.9500000000000002        5.4800000000000004        6.0700000000000003        6.7400000000000002        7.5000000000000000        8.3399999999999999        9.2800000000000011        10.330000000000000        11.490000000000000        12.770000000000000        14.190000000000000        15.740000000000000        17.450000000000003        19.309999999999999        21.350000000000001        23.559999999999999        25.969999999999999        28.580000000000002        31.410000000000000        34.469999999999999        37.770000000000003        41.320000000000000        45.140000000000001        49.250000000000000        53.649999999999999        58.370000000000005        63.420000000000002        68.810000000000002        74.560000000000002        80.680000000000007        87.210000000000008        94.140000000000001        101.51000000000001        109.33000000000000        117.62000000000000        126.40000000000001        135.68000000000001        145.50000000000000        155.87000000000000        166.81000000000000        178.34999999999999        190.50999999999999        203.31000000000000        216.78000000000000        230.93000000000001        245.80000000000001        261.42000000000002        277.82999999999998     \n",
      " init_MOM_state P_REF:    20000000.000000000     \n",
      " init_MOM_state REGRID_COMPRESSIBILITY_FRACTION:    0.0000000000000000     \n",
      " init_MOM_state MIN_THICKNESS:    1.0000000000000000E-003\n",
      " init_MOM_state ADAPT_ALPHA_RHO:   -1.0000000000000000     \n",
      " init_MOM_state ADAPT_ALPHA_P:   -1.0000000000000000     \n",
      " init_MOM_state ADAPT_TIMESCALE:    3600.0000000000000     \n",
      " init_MOM_state ADAPT_MEAN_H:  F\n",
      " init_MOM_state ADAPT_SLOPE_CUTOFF:    1.0000000000000000E-002\n",
      " init_MOM_state ADAPT_SMOOTH_MIN:   0.10000000000000001     \n",
      " init_MOM_state ADAPT_ADJUSTMENT_SCALE:   0.10000000000000001     \n",
      " init_MOM_state ADAPT_RESTORING_TIMESCALE:    864000.00000000000     \n",
      " init_MOM_state ADAPT_TWIN_GRADIENT:  F\n",
      " init_MOM_state ADAPT_PHYSICAL_SLOPE:  F\n",
      " init_MOM_state ADAPT_RESTORE_MEAN:  F\n",
      " init_MOM_state MAXIMUM_INT_DEPTH_CONFIG: 'NONE'\n",
      " init_MOM_state MAX_LAYER_THICKNESS_CONFIG: 'NONE'\n"
     ]
    }
   ],
   "source": [
    "hycom_cs = pyale.mom_init_regrid(cs, params, \"ADAPTIVE\")\n",
    "h_new = pyale.do_regrid(cs, hycom_cs)"
   ]
  },
  {
   "cell_type": "code",
   "execution_count": 12,
   "id": "518949ef-f205-4eef-baf0-57c8b49f71ae",
   "metadata": {},
   "outputs": [
    {
     "data": {
      "image/png": "[encoded data removed]",
      "text/plain": [
       "<Figure size 864x432 with 2 Axes>"
      ]
     },
     "metadata": {
      "needs_background": "light"
     },
     "output_type": "display_data"
    }
   ],
   "source": [
    "h_depth = np.cumsum(h_new[39,:,:],1)\n",
    "\n",
    "plt.figure(figsize=(12,6))\n",
    "plt.subplot(211)\n",
    "for ii in range(75):\n",
    "    if np.mod(ii,10)==5:\n",
    "        plt.plot(h_depth[:,ii],'m',linewidth=0.6)\n",
    "    else:\n",
    "        plt.plot(h_depth[:,ii],'k',linewidth=0.3)\n",
    "plt.ylim([0,500])\n",
    "plt.gca().invert_yaxis()\n",
    "    \n",
    "plt.subplot(212)\n",
    "for ii in range(75):\n",
    "    if np.mod(ii,10)==5:\n",
    "        plt.plot(h_depth[:,ii],'m',linewidth=0.6)\n",
    "    else:\n",
    "        plt.plot(h_depth[:,ii],'k',linewidth=0.3)\n",
    "plt.ylim([500,4000])\n",
    "plt.gca().invert_yaxis()\n",
    "    \n",
    "plt.subplots_adjust(hspace=0)"
   ]
  },
  {
   "cell_type": "code",
   "execution_count": 7,
   "id": "fd6f843e-c867-40c0-8ecf-05bab1eceffa",
   "metadata": {},
   "outputs": [
    {
     "data": {
      "text/plain": [
       "[<matplotlib.lines.Line2D at 0x151ad7c93610>]"
      ]
     },
     "execution_count": 7,
     "metadata": {},
     "output_type": "execute_result"
    },
    {
     "data": {
      "image/png": "[encoded data removed]",
      "text/plain": [
       "<Figure size 432x288 with 1 Axes>"
      ]
     },
     "metadata": {
      "needs_background": "light"
     },
     "output_type": "display_data"
    }
   ],
   "source": [
    "plt.plot(h_depth[400,:])"
   ]
  },
  {
   "cell_type": "code",
   "execution_count": null,
   "id": "42c748d5-fbad-46ae-bd1a-711987878c2f",
   "metadata": {},
   "outputs": [],
   "source": []
  }
 ],
 "metadata": {
  "kernelspec": {
   "display_name": "Python [conda env:analysis3-22.07]",
   "language": "python",
   "name": "conda-env-analysis3-22.07-py"
  },
  "language_info": {
   "codemirror_mode": {
    "name": "ipython",
    "version": 3
   },
   "file_extension": ".py",
   "mimetype": "text/x-python",
   "name": "python",
   "nbconvert_exporter": "python",
   "pygments_lexer": "ipython3",
   "version": "3.9.13"
  }
 },
 "nbformat": 4,
 "nbformat_minor": 5
}
